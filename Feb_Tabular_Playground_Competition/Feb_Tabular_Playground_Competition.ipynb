{
  "nbformat": 4,
  "nbformat_minor": 0,
  "metadata": {
    "colab": {
      "name": "Feb Tabular Playground Competition.ipynb",
      "provenance": [],
      "collapsed_sections": [],
      "authorship_tag": "ABX9TyP6+sh/PdgtshV3aY/7AW22",
      "include_colab_link": true
    },
    "kernelspec": {
      "name": "python3",
      "display_name": "Python 3"
    }
  },
  "cells": [
    {
      "cell_type": "markdown",
      "metadata": {
        "id": "view-in-github",
        "colab_type": "text"
      },
      "source": [
        "<a href=\"https://colab.research.google.com/github/jjbmsda/kaggle/blob/main/Feb_Tabular_Playground_Competition/Feb_Tabular_Playground_Competition.ipynb\" target=\"_parent\"><img src=\"https://colab.research.google.com/assets/colab-badge.svg\" alt=\"Open In Colab\"/></a>"
      ]
    },
    {
      "cell_type": "code",
      "metadata": {
        "colab": {
          "base_uri": "https://localhost:8080/"
        },
        "id": "wWLlwvxwtvbU",
        "outputId": "5d8a8070-b07f-4609-82f6-e5f213858d5a"
      },
      "source": [
        "from google.colab import drive\n",
        "drive.mount('/content/drive')"
      ],
      "execution_count": 1,
      "outputs": [
        {
          "output_type": "stream",
          "text": [
            "Mounted at /content/drive\n"
          ],
          "name": "stdout"
        }
      ]
    },
    {
      "cell_type": "code",
      "metadata": {
        "colab": {
          "base_uri": "https://localhost:8080/"
        },
        "id": "m6XcRrYAt6W_",
        "outputId": "31438eb8-2054-4928-be30-2813830860e4"
      },
      "source": [
        "%cd /content/drive/MyDrive/Colab Notebooks/Feb Tabular Playground Competition"
      ],
      "execution_count": 2,
      "outputs": [
        {
          "output_type": "stream",
          "text": [
            "/content/drive/MyDrive/Colab Notebooks/Feb Tabular Playground Competition\n"
          ],
          "name": "stdout"
        }
      ]
    },
    {
      "cell_type": "code",
      "metadata": {
        "colab": {
          "base_uri": "https://localhost:8080/"
        },
        "id": "_RNlaaVg_TC3",
        "outputId": "5b11f503-5e1c-4c93-858f-07c440fd9770"
      },
      "source": [
        "pip install category_encoders"
      ],
      "execution_count": 4,
      "outputs": [
        {
          "output_type": "stream",
          "text": [
            "Collecting category_encoders\n",
            "\u001b[?25l  Downloading https://files.pythonhosted.org/packages/44/57/fcef41c248701ee62e8325026b90c432adea35555cbc870aff9cfba23727/category_encoders-2.2.2-py2.py3-none-any.whl (80kB)\n",
            "\r\u001b[K     |████                            | 10kB 16.6MB/s eta 0:00:01\r\u001b[K     |████████▏                       | 20kB 11.4MB/s eta 0:00:01\r\u001b[K     |████████████▏                   | 30kB 8.7MB/s eta 0:00:01\r\u001b[K     |████████████████▎               | 40kB 7.4MB/s eta 0:00:01\r\u001b[K     |████████████████████▎           | 51kB 4.4MB/s eta 0:00:01\r\u001b[K     |████████████████████████▍       | 61kB 4.9MB/s eta 0:00:01\r\u001b[K     |████████████████████████████▍   | 71kB 5.1MB/s eta 0:00:01\r\u001b[K     |████████████████████████████████| 81kB 3.8MB/s \n",
            "\u001b[?25hRequirement already satisfied: patsy>=0.5.1 in /usr/local/lib/python3.7/dist-packages (from category_encoders) (0.5.1)\n",
            "Requirement already satisfied: statsmodels>=0.9.0 in /usr/local/lib/python3.7/dist-packages (from category_encoders) (0.10.2)\n",
            "Requirement already satisfied: scikit-learn>=0.20.0 in /usr/local/lib/python3.7/dist-packages (from category_encoders) (0.22.2.post1)\n",
            "Requirement already satisfied: scipy>=1.0.0 in /usr/local/lib/python3.7/dist-packages (from category_encoders) (1.4.1)\n",
            "Requirement already satisfied: numpy>=1.14.0 in /usr/local/lib/python3.7/dist-packages (from category_encoders) (1.19.5)\n",
            "Requirement already satisfied: pandas>=0.21.1 in /usr/local/lib/python3.7/dist-packages (from category_encoders) (1.1.5)\n",
            "Requirement already satisfied: six in /usr/local/lib/python3.7/dist-packages (from patsy>=0.5.1->category_encoders) (1.15.0)\n",
            "Requirement already satisfied: joblib>=0.11 in /usr/local/lib/python3.7/dist-packages (from scikit-learn>=0.20.0->category_encoders) (1.0.1)\n",
            "Requirement already satisfied: pytz>=2017.2 in /usr/local/lib/python3.7/dist-packages (from pandas>=0.21.1->category_encoders) (2018.9)\n",
            "Requirement already satisfied: python-dateutil>=2.7.3 in /usr/local/lib/python3.7/dist-packages (from pandas>=0.21.1->category_encoders) (2.8.1)\n",
            "Installing collected packages: category-encoders\n",
            "Successfully installed category-encoders-2.2.2\n"
          ],
          "name": "stdout"
        }
      ]
    },
    {
      "cell_type": "code",
      "metadata": {
        "id": "46zdoSFtl_TR",
        "colab": {
          "base_uri": "https://localhost:8080/"
        },
        "outputId": "8fe02655-0949-4c56-f8b3-fff940fd3b40"
      },
      "source": [
        "import numpy as np \n",
        "import pandas as pd\n",
        "import lightgbm as lgb\n",
        "from sklearn.model_selection import KFold\n",
        "from sklearn.metrics import mean_squared_error\n",
        "import category_encoders as ce\n",
        "        "
      ],
      "execution_count": 5,
      "outputs": [
        {
          "output_type": "stream",
          "text": [
            "/usr/local/lib/python3.7/dist-packages/statsmodels/tools/_testing.py:19: FutureWarning: pandas.util.testing is deprecated. Use the functions in the public API at pandas.testing instead.\n",
            "  import pandas.util.testing as tm\n"
          ],
          "name": "stderr"
        }
      ]
    },
    {
      "cell_type": "markdown",
      "metadata": {
        "id": "zS8RoLq7sn41"
      },
      "source": [
        "**데이터 로드**"
      ]
    },
    {
      "cell_type": "code",
      "metadata": {
        "colab": {
          "base_uri": "https://localhost:8080/",
          "height": 204
        },
        "id": "QxCVKFO3sr1X",
        "outputId": "8771cdb0-e27b-4214-ba8b-cf3206e1efb1"
      },
      "source": [
        "df_train = pd.read_csv('train.csv')\n",
        "display(df_train.head())"
      ],
      "execution_count": 14,
      "outputs": [
        {
          "output_type": "display_data",
          "data": {
            "text/html": [
              "<div>\n",
              "<style scoped>\n",
              "    .dataframe tbody tr th:only-of-type {\n",
              "        vertical-align: middle;\n",
              "    }\n",
              "\n",
              "    .dataframe tbody tr th {\n",
              "        vertical-align: top;\n",
              "    }\n",
              "\n",
              "    .dataframe thead th {\n",
              "        text-align: right;\n",
              "    }\n",
              "</style>\n",
              "<table border=\"1\" class=\"dataframe\">\n",
              "  <thead>\n",
              "    <tr style=\"text-align: right;\">\n",
              "      <th></th>\n",
              "      <th>id</th>\n",
              "      <th>cat0</th>\n",
              "      <th>cat1</th>\n",
              "      <th>cat2</th>\n",
              "      <th>cat3</th>\n",
              "      <th>cat4</th>\n",
              "      <th>cat5</th>\n",
              "      <th>cat6</th>\n",
              "      <th>cat7</th>\n",
              "      <th>cat8</th>\n",
              "      <th>cat9</th>\n",
              "      <th>cont0</th>\n",
              "      <th>cont1</th>\n",
              "      <th>cont2</th>\n",
              "      <th>cont3</th>\n",
              "      <th>cont4</th>\n",
              "      <th>cont5</th>\n",
              "      <th>cont6</th>\n",
              "      <th>cont7</th>\n",
              "      <th>cont8</th>\n",
              "      <th>cont9</th>\n",
              "      <th>cont10</th>\n",
              "      <th>cont11</th>\n",
              "      <th>cont12</th>\n",
              "      <th>cont13</th>\n",
              "      <th>target</th>\n",
              "    </tr>\n",
              "  </thead>\n",
              "  <tbody>\n",
              "    <tr>\n",
              "      <th>0</th>\n",
              "      <td>1</td>\n",
              "      <td>A</td>\n",
              "      <td>B</td>\n",
              "      <td>A</td>\n",
              "      <td>A</td>\n",
              "      <td>B</td>\n",
              "      <td>D</td>\n",
              "      <td>A</td>\n",
              "      <td>E</td>\n",
              "      <td>C</td>\n",
              "      <td>I</td>\n",
              "      <td>0.923191</td>\n",
              "      <td>0.684968</td>\n",
              "      <td>0.124454</td>\n",
              "      <td>0.217886</td>\n",
              "      <td>0.281421</td>\n",
              "      <td>0.881122</td>\n",
              "      <td>0.421650</td>\n",
              "      <td>0.741413</td>\n",
              "      <td>0.895799</td>\n",
              "      <td>0.802461</td>\n",
              "      <td>0.724417</td>\n",
              "      <td>0.701915</td>\n",
              "      <td>0.877618</td>\n",
              "      <td>0.719903</td>\n",
              "      <td>6.994023</td>\n",
              "    </tr>\n",
              "    <tr>\n",
              "      <th>1</th>\n",
              "      <td>2</td>\n",
              "      <td>B</td>\n",
              "      <td>A</td>\n",
              "      <td>A</td>\n",
              "      <td>A</td>\n",
              "      <td>B</td>\n",
              "      <td>B</td>\n",
              "      <td>A</td>\n",
              "      <td>E</td>\n",
              "      <td>A</td>\n",
              "      <td>F</td>\n",
              "      <td>0.437627</td>\n",
              "      <td>0.014213</td>\n",
              "      <td>0.357438</td>\n",
              "      <td>0.846127</td>\n",
              "      <td>0.282354</td>\n",
              "      <td>0.440011</td>\n",
              "      <td>0.346230</td>\n",
              "      <td>0.278495</td>\n",
              "      <td>0.593413</td>\n",
              "      <td>0.546056</td>\n",
              "      <td>0.613252</td>\n",
              "      <td>0.741289</td>\n",
              "      <td>0.326679</td>\n",
              "      <td>0.808464</td>\n",
              "      <td>8.071256</td>\n",
              "    </tr>\n",
              "    <tr>\n",
              "      <th>2</th>\n",
              "      <td>3</td>\n",
              "      <td>A</td>\n",
              "      <td>A</td>\n",
              "      <td>A</td>\n",
              "      <td>C</td>\n",
              "      <td>B</td>\n",
              "      <td>D</td>\n",
              "      <td>A</td>\n",
              "      <td>B</td>\n",
              "      <td>C</td>\n",
              "      <td>N</td>\n",
              "      <td>0.732209</td>\n",
              "      <td>0.760122</td>\n",
              "      <td>0.454644</td>\n",
              "      <td>0.812990</td>\n",
              "      <td>0.293756</td>\n",
              "      <td>0.914155</td>\n",
              "      <td>0.369602</td>\n",
              "      <td>0.832564</td>\n",
              "      <td>0.865620</td>\n",
              "      <td>0.825251</td>\n",
              "      <td>0.264104</td>\n",
              "      <td>0.695561</td>\n",
              "      <td>0.869133</td>\n",
              "      <td>0.828352</td>\n",
              "      <td>5.760456</td>\n",
              "    </tr>\n",
              "    <tr>\n",
              "      <th>3</th>\n",
              "      <td>4</td>\n",
              "      <td>A</td>\n",
              "      <td>A</td>\n",
              "      <td>A</td>\n",
              "      <td>C</td>\n",
              "      <td>B</td>\n",
              "      <td>D</td>\n",
              "      <td>A</td>\n",
              "      <td>E</td>\n",
              "      <td>G</td>\n",
              "      <td>K</td>\n",
              "      <td>0.705142</td>\n",
              "      <td>0.771678</td>\n",
              "      <td>0.153735</td>\n",
              "      <td>0.732893</td>\n",
              "      <td>0.769785</td>\n",
              "      <td>0.934138</td>\n",
              "      <td>0.578930</td>\n",
              "      <td>0.407313</td>\n",
              "      <td>0.868099</td>\n",
              "      <td>0.794402</td>\n",
              "      <td>0.494269</td>\n",
              "      <td>0.698125</td>\n",
              "      <td>0.809799</td>\n",
              "      <td>0.614766</td>\n",
              "      <td>7.806457</td>\n",
              "    </tr>\n",
              "    <tr>\n",
              "      <th>4</th>\n",
              "      <td>6</td>\n",
              "      <td>A</td>\n",
              "      <td>B</td>\n",
              "      <td>A</td>\n",
              "      <td>A</td>\n",
              "      <td>B</td>\n",
              "      <td>B</td>\n",
              "      <td>A</td>\n",
              "      <td>E</td>\n",
              "      <td>C</td>\n",
              "      <td>F</td>\n",
              "      <td>0.486063</td>\n",
              "      <td>0.639349</td>\n",
              "      <td>0.496212</td>\n",
              "      <td>0.354186</td>\n",
              "      <td>0.279105</td>\n",
              "      <td>0.382600</td>\n",
              "      <td>0.705940</td>\n",
              "      <td>0.325193</td>\n",
              "      <td>0.440967</td>\n",
              "      <td>0.462146</td>\n",
              "      <td>0.724447</td>\n",
              "      <td>0.683073</td>\n",
              "      <td>0.343457</td>\n",
              "      <td>0.297743</td>\n",
              "      <td>6.868974</td>\n",
              "    </tr>\n",
              "  </tbody>\n",
              "</table>\n",
              "</div>"
            ],
            "text/plain": [
              "   id cat0 cat1 cat2 cat3  ...    cont10    cont11    cont12    cont13    target\n",
              "0   1    A    B    A    A  ...  0.724417  0.701915  0.877618  0.719903  6.994023\n",
              "1   2    B    A    A    A  ...  0.613252  0.741289  0.326679  0.808464  8.071256\n",
              "2   3    A    A    A    C  ...  0.264104  0.695561  0.869133  0.828352  5.760456\n",
              "3   4    A    A    A    C  ...  0.494269  0.698125  0.809799  0.614766  7.806457\n",
              "4   6    A    B    A    A  ...  0.724447  0.683073  0.343457  0.297743  6.868974\n",
              "\n",
              "[5 rows x 26 columns]"
            ]
          },
          "metadata": {
            "tags": []
          }
        }
      ]
    },
    {
      "cell_type": "code",
      "metadata": {
        "colab": {
          "base_uri": "https://localhost:8080/",
          "height": 204
        },
        "id": "3n5x8TnBZTM4",
        "outputId": "72b53361-cdbd-4775-d905-4cb35f60bb45"
      },
      "source": [
        "df_test = pd.read_csv('test.csv')\n",
        "display(df_test.head())"
      ],
      "execution_count": 15,
      "outputs": [
        {
          "output_type": "display_data",
          "data": {
            "text/html": [
              "<div>\n",
              "<style scoped>\n",
              "    .dataframe tbody tr th:only-of-type {\n",
              "        vertical-align: middle;\n",
              "    }\n",
              "\n",
              "    .dataframe tbody tr th {\n",
              "        vertical-align: top;\n",
              "    }\n",
              "\n",
              "    .dataframe thead th {\n",
              "        text-align: right;\n",
              "    }\n",
              "</style>\n",
              "<table border=\"1\" class=\"dataframe\">\n",
              "  <thead>\n",
              "    <tr style=\"text-align: right;\">\n",
              "      <th></th>\n",
              "      <th>id</th>\n",
              "      <th>cat0</th>\n",
              "      <th>cat1</th>\n",
              "      <th>cat2</th>\n",
              "      <th>cat3</th>\n",
              "      <th>cat4</th>\n",
              "      <th>cat5</th>\n",
              "      <th>cat6</th>\n",
              "      <th>cat7</th>\n",
              "      <th>cat8</th>\n",
              "      <th>cat9</th>\n",
              "      <th>cont0</th>\n",
              "      <th>cont1</th>\n",
              "      <th>cont2</th>\n",
              "      <th>cont3</th>\n",
              "      <th>cont4</th>\n",
              "      <th>cont5</th>\n",
              "      <th>cont6</th>\n",
              "      <th>cont7</th>\n",
              "      <th>cont8</th>\n",
              "      <th>cont9</th>\n",
              "      <th>cont10</th>\n",
              "      <th>cont11</th>\n",
              "      <th>cont12</th>\n",
              "      <th>cont13</th>\n",
              "    </tr>\n",
              "  </thead>\n",
              "  <tbody>\n",
              "    <tr>\n",
              "      <th>0</th>\n",
              "      <td>0</td>\n",
              "      <td>A</td>\n",
              "      <td>B</td>\n",
              "      <td>A</td>\n",
              "      <td>C</td>\n",
              "      <td>B</td>\n",
              "      <td>D</td>\n",
              "      <td>A</td>\n",
              "      <td>E</td>\n",
              "      <td>E</td>\n",
              "      <td>G</td>\n",
              "      <td>0.331261</td>\n",
              "      <td>0.551131</td>\n",
              "      <td>0.486284</td>\n",
              "      <td>0.156058</td>\n",
              "      <td>0.701679</td>\n",
              "      <td>0.595507</td>\n",
              "      <td>0.286912</td>\n",
              "      <td>0.279884</td>\n",
              "      <td>0.202234</td>\n",
              "      <td>0.242654</td>\n",
              "      <td>0.285147</td>\n",
              "      <td>0.264308</td>\n",
              "      <td>0.653654</td>\n",
              "      <td>0.302448</td>\n",
              "    </tr>\n",
              "    <tr>\n",
              "      <th>1</th>\n",
              "      <td>5</td>\n",
              "      <td>A</td>\n",
              "      <td>B</td>\n",
              "      <td>A</td>\n",
              "      <td>C</td>\n",
              "      <td>B</td>\n",
              "      <td>D</td>\n",
              "      <td>A</td>\n",
              "      <td>E</td>\n",
              "      <td>C</td>\n",
              "      <td>L</td>\n",
              "      <td>0.402404</td>\n",
              "      <td>0.617546</td>\n",
              "      <td>0.296852</td>\n",
              "      <td>0.187440</td>\n",
              "      <td>0.277480</td>\n",
              "      <td>0.479552</td>\n",
              "      <td>0.397436</td>\n",
              "      <td>0.476742</td>\n",
              "      <td>0.857073</td>\n",
              "      <td>0.516393</td>\n",
              "      <td>0.562065</td>\n",
              "      <td>0.730542</td>\n",
              "      <td>0.318492</td>\n",
              "      <td>0.736251</td>\n",
              "    </tr>\n",
              "    <tr>\n",
              "      <th>2</th>\n",
              "      <td>15</td>\n",
              "      <td>A</td>\n",
              "      <td>B</td>\n",
              "      <td>A</td>\n",
              "      <td>C</td>\n",
              "      <td>B</td>\n",
              "      <td>D</td>\n",
              "      <td>A</td>\n",
              "      <td>E</td>\n",
              "      <td>C</td>\n",
              "      <td>F</td>\n",
              "      <td>0.530677</td>\n",
              "      <td>0.618126</td>\n",
              "      <td>0.760865</td>\n",
              "      <td>0.199872</td>\n",
              "      <td>0.279508</td>\n",
              "      <td>0.676395</td>\n",
              "      <td>0.695284</td>\n",
              "      <td>0.253316</td>\n",
              "      <td>0.586934</td>\n",
              "      <td>0.548555</td>\n",
              "      <td>0.836193</td>\n",
              "      <td>0.759788</td>\n",
              "      <td>0.333572</td>\n",
              "      <td>0.273905</td>\n",
              "    </tr>\n",
              "    <tr>\n",
              "      <th>3</th>\n",
              "      <td>16</td>\n",
              "      <td>A</td>\n",
              "      <td>A</td>\n",
              "      <td>B</td>\n",
              "      <td>A</td>\n",
              "      <td>B</td>\n",
              "      <td>D</td>\n",
              "      <td>A</td>\n",
              "      <td>E</td>\n",
              "      <td>E</td>\n",
              "      <td>F</td>\n",
              "      <td>0.439653</td>\n",
              "      <td>0.487403</td>\n",
              "      <td>0.715786</td>\n",
              "      <td>0.192808</td>\n",
              "      <td>0.479503</td>\n",
              "      <td>0.759875</td>\n",
              "      <td>0.240049</td>\n",
              "      <td>0.298074</td>\n",
              "      <td>0.442475</td>\n",
              "      <td>0.596746</td>\n",
              "      <td>0.414131</td>\n",
              "      <td>0.255382</td>\n",
              "      <td>0.589080</td>\n",
              "      <td>0.311625</td>\n",
              "    </tr>\n",
              "    <tr>\n",
              "      <th>4</th>\n",
              "      <td>17</td>\n",
              "      <td>A</td>\n",
              "      <td>B</td>\n",
              "      <td>A</td>\n",
              "      <td>A</td>\n",
              "      <td>B</td>\n",
              "      <td>B</td>\n",
              "      <td>A</td>\n",
              "      <td>E</td>\n",
              "      <td>E</td>\n",
              "      <td>I</td>\n",
              "      <td>0.389844</td>\n",
              "      <td>0.752760</td>\n",
              "      <td>0.315269</td>\n",
              "      <td>0.191734</td>\n",
              "      <td>0.757845</td>\n",
              "      <td>0.210232</td>\n",
              "      <td>0.329851</td>\n",
              "      <td>0.616663</td>\n",
              "      <td>0.170475</td>\n",
              "      <td>0.263235</td>\n",
              "      <td>0.710961</td>\n",
              "      <td>0.224045</td>\n",
              "      <td>0.285860</td>\n",
              "      <td>0.794931</td>\n",
              "    </tr>\n",
              "  </tbody>\n",
              "</table>\n",
              "</div>"
            ],
            "text/plain": [
              "   id cat0 cat1 cat2 cat3  ...     cont9    cont10    cont11    cont12    cont13\n",
              "0   0    A    B    A    C  ...  0.242654  0.285147  0.264308  0.653654  0.302448\n",
              "1   5    A    B    A    C  ...  0.516393  0.562065  0.730542  0.318492  0.736251\n",
              "2  15    A    B    A    C  ...  0.548555  0.836193  0.759788  0.333572  0.273905\n",
              "3  16    A    A    B    A  ...  0.596746  0.414131  0.255382  0.589080  0.311625\n",
              "4  17    A    B    A    A  ...  0.263235  0.710961  0.224045  0.285860  0.794931\n",
              "\n",
              "[5 rows x 25 columns]"
            ]
          },
          "metadata": {
            "tags": []
          }
        }
      ]
    },
    {
      "cell_type": "code",
      "metadata": {
        "colab": {
          "base_uri": "https://localhost:8080/",
          "height": 204
        },
        "id": "kH4iFPpZZnM8",
        "outputId": "0773b480-1339-46dd-99cc-906f36200c4a"
      },
      "source": [
        "df_sample = pd.read_csv('sample_submission.csv')\n",
        "display(df_sample.head())"
      ],
      "execution_count": 16,
      "outputs": [
        {
          "output_type": "display_data",
          "data": {
            "text/html": [
              "<div>\n",
              "<style scoped>\n",
              "    .dataframe tbody tr th:only-of-type {\n",
              "        vertical-align: middle;\n",
              "    }\n",
              "\n",
              "    .dataframe tbody tr th {\n",
              "        vertical-align: top;\n",
              "    }\n",
              "\n",
              "    .dataframe thead th {\n",
              "        text-align: right;\n",
              "    }\n",
              "</style>\n",
              "<table border=\"1\" class=\"dataframe\">\n",
              "  <thead>\n",
              "    <tr style=\"text-align: right;\">\n",
              "      <th></th>\n",
              "      <th>id</th>\n",
              "      <th>target</th>\n",
              "    </tr>\n",
              "  </thead>\n",
              "  <tbody>\n",
              "    <tr>\n",
              "      <th>0</th>\n",
              "      <td>0</td>\n",
              "      <td>0.5</td>\n",
              "    </tr>\n",
              "    <tr>\n",
              "      <th>1</th>\n",
              "      <td>5</td>\n",
              "      <td>0.5</td>\n",
              "    </tr>\n",
              "    <tr>\n",
              "      <th>2</th>\n",
              "      <td>15</td>\n",
              "      <td>0.5</td>\n",
              "    </tr>\n",
              "    <tr>\n",
              "      <th>3</th>\n",
              "      <td>16</td>\n",
              "      <td>0.5</td>\n",
              "    </tr>\n",
              "    <tr>\n",
              "      <th>4</th>\n",
              "      <td>17</td>\n",
              "      <td>0.5</td>\n",
              "    </tr>\n",
              "  </tbody>\n",
              "</table>\n",
              "</div>"
            ],
            "text/plain": [
              "   id  target\n",
              "0   0     0.5\n",
              "1   5     0.5\n",
              "2  15     0.5\n",
              "3  16     0.5\n",
              "4  17     0.5"
            ]
          },
          "metadata": {
            "tags": []
          }
        }
      ]
    },
    {
      "cell_type": "markdown",
      "metadata": {
        "id": "r8A5Bg3xTkgz"
      },
      "source": [
        "**데이터 전처리**"
      ]
    },
    {
      "cell_type": "code",
      "metadata": {
        "id": "zqqp25j4Zt9T"
      },
      "source": [
        "df_train.drop(\"id\", axis=1, inplace=True) #train 데이터에서 id 열을 버립니다. inplace가 True면 복사본을 반환하지 않습니다.\n",
        "df_test.drop(\"id\", axis=1, inplace=True) #test 데이터에서 id 열을 버립니다."
      ],
      "execution_count": 17,
      "outputs": []
    },
    {
      "cell_type": "code",
      "metadata": {
        "id": "Vo5YkBSYUN8o"
      },
      "source": [
        "cat_labels = [f\"cat{i}\" for i in range(10)]"
      ],
      "execution_count": 19,
      "outputs": []
    },
    {
      "cell_type": "code",
      "metadata": {
        "id": "k508KRxhVTVB",
        "colab": {
          "base_uri": "https://localhost:8080/"
        },
        "outputId": "a8dc9062-c4a0-4e6b-828b-e4e677bdd127"
      },
      "source": [
        "onehot_encoder = ce.one_hot.OneHotEncoder() #OneHotEncoder를 정의합니다.\n",
        "onehot_encoder.fit(pd.concat([df_train[cat_labels], df_test[cat_labels]], axis=0)) #train 데이터와 test 데이터를 합친 후 OneHotEncoding을 실행합니다.\n",
        "train_ohe = onehot_encoder.transform(df_train[cat_labels]) #train 데이터에 OneHotEncoding을 적용한 train_ohe를 만듭니다.\n",
        "test_ohe = onehot_encoder.transform(df_test[cat_labels]) #test 데이터에 OneHotEncoding을 적용한 test_ohe를 만듭니다.\n",
        "train_ohe.columns = [f\"OHE_{col}\" for col in train_ohe] #OneHotEncoder는 각 레이블의 이름을 정해주지 않기 때문에, 레이블의 이름을 정해줍니다. \n",
        "test_ohe.columns = [f\"OHE_{col}\" for col in test_ohe] #레이블의 이름을 정해줍니다. "
      ],
      "execution_count": 20,
      "outputs": [
        {
          "output_type": "stream",
          "text": [
            "/usr/local/lib/python3.7/dist-packages/category_encoders/utils.py:21: FutureWarning: is_categorical is deprecated and will be removed in a future version.  Use is_categorical_dtype instead\n",
            "  elif pd.api.types.is_categorical(cols):\n"
          ],
          "name": "stderr"
        }
      ]
    },
    {
      "cell_type": "code",
      "metadata": {
        "id": "tc_zLLbKWwoK"
      },
      "source": [
        "numerical_labels = [f\"cont{i}\" for i in range(14)] #cont0부터 cont13까지 14개의 숫자로 이루어진 레이블을 정의합니다."
      ],
      "execution_count": 21,
      "outputs": []
    },
    {
      "cell_type": "code",
      "metadata": {
        "id": "TCSycDPU9fqS"
      },
      "source": [
        "train_x = pd.concat([df_train[numerical_labels],train_ohe], axis=1) #OneHotEncoding을 한 문자 label과 숫자 label을 합쳐 최종 train 데이터를 만듭니다."
      ],
      "execution_count": 22,
      "outputs": []
    },
    {
      "cell_type": "code",
      "metadata": {
        "id": "3oYhPfNr9un8"
      },
      "source": [
        "test_x = pd.concat([df_test[numerical_labels],test_ohe], axis=1) #최종 train 데이터를 만듭니다."
      ],
      "execution_count": 23,
      "outputs": []
    },
    {
      "cell_type": "code",
      "metadata": {
        "id": "GvunZlVO9w5I"
      },
      "source": [
        "train_y = df_train[\"target\"] #train 데이터의 Target 값을 train_y로 정의해줍니다. "
      ],
      "execution_count": 24,
      "outputs": []
    },
    {
      "cell_type": "markdown",
      "metadata": {
        "id": "vqA-1eLp9zHY"
      },
      "source": [
        "**모델 훈련**"
      ]
    },
    {
      "cell_type": "code",
      "metadata": {
        "id": "nHGv5Ivm-AG9"
      },
      "source": [
        "folds = KFold(n_splits=5, shuffle=True, random_state=2021) #5 fold의 KFold를 정의합니다. random_state는 임의대로 정의하여도 됩니다. "
      ],
      "execution_count": 25,
      "outputs": []
    },
    {
      "cell_type": "code",
      "metadata": {
        "id": "eT-MDtUK-DuU"
      },
      "source": [
        "lgb_params = dict({'objective': 'regression', #LGBM 모델의 다양한 parameter들을 정의합니다. 이 문제는 회귀 문제이므로 regression으로 정의합니다. \n",
        " 'metric': 'rmse', #이 대회에서는 평가에 RMSE를 사용합니다. \n",
        " 'verbosity': -1, #모델 훈련 상태를 얼마만큼 알려줄 것인지 설정합니다. \n",
        " 'learning_rate': 0.01, #learning rate를 설정합니다\n",
        " 'early_stopping_round' : 200, #200번의 훈련 동안 모델의 성능에 향상이 없으면 학습을 중지합니다. \n",
        " 'num_iterations' : 20000}) #최대 20000번 훈련합니다. "
      ],
      "execution_count": 26,
      "outputs": []
    },
    {
      "cell_type": "code",
      "metadata": {
        "colab": {
          "base_uri": "https://localhost:8080/"
        },
        "id": "EdgiXEIo-G-E",
        "outputId": "68189b94-ab79-478a-8c71-30f1a46b4d84"
      },
      "source": [
        "oof_preds = np.zeros_like(train_y) #validation의 예측값을 저장할 DataFrame을 만듭니다.\n",
        "models = [] #5개의 모델을 저장할 list를 만듭니다.\n",
        "for tr_idx, va_idx in folds.split(train_x): #5번 상호 검증을 수행하며 훈련할 for 반복문을 만듭니다. \n",
        "    tr_x, va_x = train_x.iloc[tr_idx], train_x.iloc[va_idx] #예측에 사용할 x 값들에서 validation 데이터를 분리합니다.\n",
        "    tr_y, va_y = train_y[tr_idx], train_y[va_idx] #예측할 데이터인 y 값들에서 validation 데이터를 분리합니다.\n",
        "            \n",
        "    lgb_train_dataset = lgb.Dataset(tr_x, tr_y) #train 데이터를 LGBM용 데이터셋으로 변환합니다. 자세한 내용은 공식 문서를 참조하세요. https://lightgbm.readthedocs.io/en/latest/pythonapi/lightgbm.Dataset.html\n",
        "    lgb_valid_dataset = lgb.Dataset(va_x, va_y) #test 데이터를 LGBM용 데이터셋으로 변환합니다.\n",
        "    model = lgb.train(lgb_params, lgb_train_dataset, valid_sets=[lgb_valid_dataset], verbose_eval=100) #LGBM 모델을 훈련합니다.\n",
        "    models.append(model) #각 모델을 위에서 정의한 모델 리스트에 입력합니다.\n",
        "    oof_pred = model.predict(va_x) #validation 데이터를 예측합니다.\n",
        "    oof_preds[va_idx] = oof_pred #예측한 값을 위에서 만든 DataFrame에 입력합니다."
      ],
      "execution_count": 27,
      "outputs": [
        {
          "output_type": "stream",
          "text": [
            "/usr/local/lib/python3.7/dist-packages/lightgbm/engine.py:118: UserWarning: Found `num_iterations` in params. Will use it instead of argument\n",
            "  warnings.warn(\"Found `{}` in params. Will use it instead of argument\".format(alias))\n",
            "/usr/local/lib/python3.7/dist-packages/lightgbm/engine.py:123: UserWarning: Found `early_stopping_round` in params. Will use it instead of argument\n",
            "  warnings.warn(\"Found `{}` in params. Will use it instead of argument\".format(alias))\n"
          ],
          "name": "stderr"
        },
        {
          "output_type": "stream",
          "text": [
            "Training until validation scores don't improve for 200 rounds.\n",
            "[100]\tvalid_0's rmse: 0.865812\n",
            "[200]\tvalid_0's rmse: 0.858065\n",
            "[300]\tvalid_0's rmse: 0.854028\n",
            "[400]\tvalid_0's rmse: 0.851472\n",
            "[500]\tvalid_0's rmse: 0.849695\n",
            "[600]\tvalid_0's rmse: 0.848408\n",
            "[700]\tvalid_0's rmse: 0.847412\n",
            "[800]\tvalid_0's rmse: 0.846638\n",
            "[900]\tvalid_0's rmse: 0.846033\n",
            "[1000]\tvalid_0's rmse: 0.845574\n",
            "[1100]\tvalid_0's rmse: 0.845271\n",
            "[1200]\tvalid_0's rmse: 0.845041\n",
            "[1300]\tvalid_0's rmse: 0.844883\n",
            "[1400]\tvalid_0's rmse: 0.844761\n",
            "[1500]\tvalid_0's rmse: 0.844662\n",
            "[1600]\tvalid_0's rmse: 0.844575\n",
            "[1700]\tvalid_0's rmse: 0.844503\n",
            "[1800]\tvalid_0's rmse: 0.844463\n",
            "[1900]\tvalid_0's rmse: 0.844425\n",
            "[2000]\tvalid_0's rmse: 0.844367\n",
            "[2100]\tvalid_0's rmse: 0.844335\n",
            "[2200]\tvalid_0's rmse: 0.844285\n",
            "[2300]\tvalid_0's rmse: 0.844244\n",
            "[2400]\tvalid_0's rmse: 0.844215\n",
            "[2500]\tvalid_0's rmse: 0.844202\n",
            "[2600]\tvalid_0's rmse: 0.844189\n",
            "[2700]\tvalid_0's rmse: 0.844163\n",
            "[2800]\tvalid_0's rmse: 0.844142\n",
            "[2900]\tvalid_0's rmse: 0.844121\n",
            "[3000]\tvalid_0's rmse: 0.844124\n",
            "[3100]\tvalid_0's rmse: 0.844115\n",
            "[3200]\tvalid_0's rmse: 0.84412\n",
            "Early stopping, best iteration is:\n",
            "[3071]\tvalid_0's rmse: 0.84411\n",
            "Training until validation scores don't improve for 200 rounds.\n",
            "[100]\tvalid_0's rmse: 0.869684\n",
            "[200]\tvalid_0's rmse: 0.861991\n",
            "[300]\tvalid_0's rmse: 0.857828\n",
            "[400]\tvalid_0's rmse: 0.855026\n",
            "[500]\tvalid_0's rmse: 0.853028\n",
            "[600]\tvalid_0's rmse: 0.851608\n",
            "[700]\tvalid_0's rmse: 0.850476\n",
            "[800]\tvalid_0's rmse: 0.84952\n",
            "[900]\tvalid_0's rmse: 0.848775\n",
            "[1000]\tvalid_0's rmse: 0.848223\n",
            "[1100]\tvalid_0's rmse: 0.847787\n",
            "[1200]\tvalid_0's rmse: 0.847499\n",
            "[1300]\tvalid_0's rmse: 0.847301\n",
            "[1400]\tvalid_0's rmse: 0.847164\n",
            "[1500]\tvalid_0's rmse: 0.847036\n",
            "[1600]\tvalid_0's rmse: 0.846947\n",
            "[1700]\tvalid_0's rmse: 0.846876\n",
            "[1800]\tvalid_0's rmse: 0.846786\n",
            "[1900]\tvalid_0's rmse: 0.846685\n",
            "[2000]\tvalid_0's rmse: 0.846614\n",
            "[2100]\tvalid_0's rmse: 0.846577\n",
            "[2200]\tvalid_0's rmse: 0.846522\n",
            "[2300]\tvalid_0's rmse: 0.846501\n",
            "[2400]\tvalid_0's rmse: 0.846451\n",
            "[2500]\tvalid_0's rmse: 0.846407\n",
            "[2600]\tvalid_0's rmse: 0.846393\n",
            "[2700]\tvalid_0's rmse: 0.846369\n",
            "[2800]\tvalid_0's rmse: 0.846334\n",
            "[2900]\tvalid_0's rmse: 0.846296\n",
            "[3000]\tvalid_0's rmse: 0.846275\n",
            "[3100]\tvalid_0's rmse: 0.846262\n",
            "[3200]\tvalid_0's rmse: 0.846249\n",
            "[3300]\tvalid_0's rmse: 0.846234\n",
            "[3400]\tvalid_0's rmse: 0.846244\n",
            "Early stopping, best iteration is:\n",
            "[3287]\tvalid_0's rmse: 0.84623\n",
            "Training until validation scores don't improve for 200 rounds.\n",
            "[100]\tvalid_0's rmse: 0.867329\n",
            "[200]\tvalid_0's rmse: 0.859209\n",
            "[300]\tvalid_0's rmse: 0.854854\n",
            "[400]\tvalid_0's rmse: 0.852027\n",
            "[500]\tvalid_0's rmse: 0.850108\n",
            "[600]\tvalid_0's rmse: 0.848659\n",
            "[700]\tvalid_0's rmse: 0.847522\n",
            "[800]\tvalid_0's rmse: 0.846696\n",
            "[900]\tvalid_0's rmse: 0.846069\n",
            "[1000]\tvalid_0's rmse: 0.84559\n",
            "[1100]\tvalid_0's rmse: 0.845213\n",
            "[1200]\tvalid_0's rmse: 0.844938\n",
            "[1300]\tvalid_0's rmse: 0.844729\n",
            "[1400]\tvalid_0's rmse: 0.844587\n",
            "[1500]\tvalid_0's rmse: 0.84452\n",
            "[1600]\tvalid_0's rmse: 0.844419\n",
            "[1700]\tvalid_0's rmse: 0.844315\n",
            "[1800]\tvalid_0's rmse: 0.844254\n",
            "[1900]\tvalid_0's rmse: 0.844212\n",
            "[2000]\tvalid_0's rmse: 0.844179\n",
            "[2100]\tvalid_0's rmse: 0.844135\n",
            "[2200]\tvalid_0's rmse: 0.844114\n",
            "[2300]\tvalid_0's rmse: 0.844109\n",
            "[2400]\tvalid_0's rmse: 0.844085\n",
            "[2500]\tvalid_0's rmse: 0.844079\n",
            "[2600]\tvalid_0's rmse: 0.844058\n",
            "[2700]\tvalid_0's rmse: 0.844056\n",
            "[2800]\tvalid_0's rmse: 0.844058\n",
            "[2900]\tvalid_0's rmse: 0.844047\n",
            "[3000]\tvalid_0's rmse: 0.84403\n",
            "[3100]\tvalid_0's rmse: 0.844023\n",
            "[3200]\tvalid_0's rmse: 0.844015\n",
            "[3300]\tvalid_0's rmse: 0.844007\n",
            "[3400]\tvalid_0's rmse: 0.843997\n",
            "[3500]\tvalid_0's rmse: 0.843972\n",
            "[3600]\tvalid_0's rmse: 0.843977\n",
            "[3700]\tvalid_0's rmse: 0.843962\n",
            "[3800]\tvalid_0's rmse: 0.84397\n",
            "[3900]\tvalid_0's rmse: 0.843941\n",
            "[4000]\tvalid_0's rmse: 0.843925\n",
            "[4100]\tvalid_0's rmse: 0.84392\n",
            "[4200]\tvalid_0's rmse: 0.843926\n",
            "[4300]\tvalid_0's rmse: 0.843939\n",
            "Early stopping, best iteration is:\n",
            "[4133]\tvalid_0's rmse: 0.843913\n",
            "Training until validation scores don't improve for 200 rounds.\n",
            "[100]\tvalid_0's rmse: 0.863873\n",
            "[200]\tvalid_0's rmse: 0.856246\n",
            "[300]\tvalid_0's rmse: 0.852101\n",
            "[400]\tvalid_0's rmse: 0.849421\n",
            "[500]\tvalid_0's rmse: 0.847598\n",
            "[600]\tvalid_0's rmse: 0.846206\n",
            "[700]\tvalid_0's rmse: 0.845116\n",
            "[800]\tvalid_0's rmse: 0.844241\n",
            "[900]\tvalid_0's rmse: 0.843495\n",
            "[1000]\tvalid_0's rmse: 0.842953\n",
            "[1100]\tvalid_0's rmse: 0.842576\n",
            "[1200]\tvalid_0's rmse: 0.842347\n",
            "[1300]\tvalid_0's rmse: 0.842166\n",
            "[1400]\tvalid_0's rmse: 0.842062\n",
            "[1500]\tvalid_0's rmse: 0.841983\n",
            "[1600]\tvalid_0's rmse: 0.841917\n",
            "[1700]\tvalid_0's rmse: 0.841877\n",
            "[1800]\tvalid_0's rmse: 0.841858\n",
            "[1900]\tvalid_0's rmse: 0.841818\n",
            "[2000]\tvalid_0's rmse: 0.841786\n",
            "[2100]\tvalid_0's rmse: 0.841744\n",
            "[2200]\tvalid_0's rmse: 0.8417\n",
            "[2300]\tvalid_0's rmse: 0.841668\n",
            "[2400]\tvalid_0's rmse: 0.841649\n",
            "[2500]\tvalid_0's rmse: 0.841628\n",
            "[2600]\tvalid_0's rmse: 0.84159\n",
            "[2700]\tvalid_0's rmse: 0.841558\n",
            "[2800]\tvalid_0's rmse: 0.841552\n",
            "[2900]\tvalid_0's rmse: 0.841526\n",
            "[3000]\tvalid_0's rmse: 0.841532\n",
            "[3100]\tvalid_0's rmse: 0.841551\n",
            "Early stopping, best iteration is:\n",
            "[2940]\tvalid_0's rmse: 0.841522\n",
            "Training until validation scores don't improve for 200 rounds.\n",
            "[100]\tvalid_0's rmse: 0.870006\n",
            "[200]\tvalid_0's rmse: 0.862367\n",
            "[300]\tvalid_0's rmse: 0.858198\n",
            "[400]\tvalid_0's rmse: 0.855519\n",
            "[500]\tvalid_0's rmse: 0.853616\n",
            "[600]\tvalid_0's rmse: 0.852199\n",
            "[700]\tvalid_0's rmse: 0.851168\n",
            "[800]\tvalid_0's rmse: 0.850331\n",
            "[900]\tvalid_0's rmse: 0.849593\n",
            "[1000]\tvalid_0's rmse: 0.849052\n",
            "[1100]\tvalid_0's rmse: 0.848699\n",
            "[1200]\tvalid_0's rmse: 0.84846\n",
            "[1300]\tvalid_0's rmse: 0.848277\n",
            "[1400]\tvalid_0's rmse: 0.848143\n",
            "[1500]\tvalid_0's rmse: 0.848031\n",
            "[1600]\tvalid_0's rmse: 0.847939\n",
            "[1700]\tvalid_0's rmse: 0.847878\n",
            "[1800]\tvalid_0's rmse: 0.847832\n",
            "[1900]\tvalid_0's rmse: 0.847792\n",
            "[2000]\tvalid_0's rmse: 0.847748\n",
            "[2100]\tvalid_0's rmse: 0.847728\n",
            "[2200]\tvalid_0's rmse: 0.847688\n",
            "[2300]\tvalid_0's rmse: 0.847671\n",
            "[2400]\tvalid_0's rmse: 0.847664\n",
            "[2500]\tvalid_0's rmse: 0.847651\n",
            "[2600]\tvalid_0's rmse: 0.847628\n",
            "[2700]\tvalid_0's rmse: 0.847621\n",
            "[2800]\tvalid_0's rmse: 0.847618\n",
            "[2900]\tvalid_0's rmse: 0.847628\n",
            "Early stopping, best iteration is:\n",
            "[2776]\tvalid_0's rmse: 0.847606\n"
          ],
          "name": "stdout"
        }
      ]
    },
    {
      "cell_type": "code",
      "metadata": {
        "colab": {
          "base_uri": "https://localhost:8080/"
        },
        "id": "VA64ApBd-J2U",
        "outputId": "ad6429f9-21d6-451d-ae36-06fbdec11553"
      },
      "source": [
        "np.sqrt(mean_squared_error(df_train.target, oof_preds)) #각 모델로 산출한 validation 데이터의 RMSE 점수를 출력하여 모델의 성능을 확인합니다."
      ],
      "execution_count": 28,
      "outputs": [
        {
          "output_type": "execute_result",
          "data": {
            "text/plain": [
              "0.8446788870093547"
            ]
          },
          "metadata": {
            "tags": []
          },
          "execution_count": 28
        }
      ]
    },
    {
      "cell_type": "code",
      "metadata": {
        "id": "8isKeCP3-Ro2"
      },
      "source": [
        "preds = [] #예측값을 저장할 DataFrame을 만듭니다.\n",
        "for model in models: #저장했던 모델들을 하나씩 예측하는 for 반복문을 만듭니다.\n",
        "    pred = model.predict(test_x) #각 모델을 하나씩 예측합니다.\n",
        "    preds.append(pred) #각 예측값을 위에서 만든 DataFrame에 입력합니다.\n",
        "preds = np.mean(preds, axis=0) #각 예측값의 평균을 내어 최종 예측값을 완성합니다."
      ],
      "execution_count": 29,
      "outputs": []
    },
    {
      "cell_type": "code",
      "metadata": {
        "colab": {
          "base_uri": "https://localhost:8080/",
          "height": 204
        },
        "id": "oCS5RVYv-SpI",
        "outputId": "30a3c8d7-8280-44a2-ca24-14261f627d78"
      },
      "source": [
        "sub = df_sample.copy() #submission 샘플을 복사합니다.\n",
        "sub[\"target\"] = preds #샘플의 target column에 최종 예측값을 입력합니다.\n",
        "\n",
        "sub.to_csv(\"submission_baseline(simple parameter).csv\", index=False) #제출을 위한 csv 파일을 생성합니다.\n",
        "\n",
        "sub.head() #최종 제출 파일의 앞부분을 확인합니다."
      ],
      "execution_count": 30,
      "outputs": [
        {
          "output_type": "execute_result",
          "data": {
            "text/html": [
              "<div>\n",
              "<style scoped>\n",
              "    .dataframe tbody tr th:only-of-type {\n",
              "        vertical-align: middle;\n",
              "    }\n",
              "\n",
              "    .dataframe tbody tr th {\n",
              "        vertical-align: top;\n",
              "    }\n",
              "\n",
              "    .dataframe thead th {\n",
              "        text-align: right;\n",
              "    }\n",
              "</style>\n",
              "<table border=\"1\" class=\"dataframe\">\n",
              "  <thead>\n",
              "    <tr style=\"text-align: right;\">\n",
              "      <th></th>\n",
              "      <th>id</th>\n",
              "      <th>target</th>\n",
              "    </tr>\n",
              "  </thead>\n",
              "  <tbody>\n",
              "    <tr>\n",
              "      <th>0</th>\n",
              "      <td>0</td>\n",
              "      <td>7.606025</td>\n",
              "    </tr>\n",
              "    <tr>\n",
              "      <th>1</th>\n",
              "      <td>5</td>\n",
              "      <td>7.748879</td>\n",
              "    </tr>\n",
              "    <tr>\n",
              "      <th>2</th>\n",
              "      <td>15</td>\n",
              "      <td>7.598841</td>\n",
              "    </tr>\n",
              "    <tr>\n",
              "      <th>3</th>\n",
              "      <td>16</td>\n",
              "      <td>7.449088</td>\n",
              "    </tr>\n",
              "    <tr>\n",
              "      <th>4</th>\n",
              "      <td>17</td>\n",
              "      <td>7.296246</td>\n",
              "    </tr>\n",
              "  </tbody>\n",
              "</table>\n",
              "</div>"
            ],
            "text/plain": [
              "   id    target\n",
              "0   0  7.606025\n",
              "1   5  7.748879\n",
              "2  15  7.598841\n",
              "3  16  7.449088\n",
              "4  17  7.296246"
            ]
          },
          "metadata": {
            "tags": []
          },
          "execution_count": 30
        }
      ]
    }
  ]
}