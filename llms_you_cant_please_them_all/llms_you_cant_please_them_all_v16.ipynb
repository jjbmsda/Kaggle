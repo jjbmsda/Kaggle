{
  "nbformat": 4,
  "nbformat_minor": 0,
  "metadata": {
    "colab": {
      "provenance": [],
      "authorship_tag": "ABX9TyMTAk+C8jjsReMfhCdxe1Ss",
      "include_colab_link": true
    },
    "kernelspec": {
      "name": "python3",
      "display_name": "Python 3"
    },
    "language_info": {
      "name": "python"
    }
  },
  "cells": [
    {
      "cell_type": "markdown",
      "metadata": {
        "id": "view-in-github",
        "colab_type": "text"
      },
      "source": [
        "<a href=\"https://colab.research.google.com/github/jjbmsda/Kaggle/blob/main/llms_you_cant_please_them_all/llms_you_cant_please_them_all_v16.ipynb\" target=\"_parent\"><img src=\"https://colab.research.google.com/assets/colab-badge.svg\" alt=\"Open In Colab\"/></a>"
      ]
    },
    {
      "cell_type": "code",
      "execution_count": null,
      "metadata": {
        "id": "B0FhAk1H-3tv"
      },
      "outputs": [],
      "source": [
        "import pandas as pd\n",
        "import random\n",
        "\n",
        "# Set random seed for consistency\n",
        "random.seed(42)\n",
        "\n",
        "# Load Kaggle dataset\n",
        "test_df = pd.read_csv('/kaggle/input/llms-you-cant-please-them-all/test.csv')\n",
        "submission_df = pd.read_csv('/kaggle/input/llms-you-cant-please-them-all/sample_submission.csv')\n",
        "\n",
        "# Load word list from `words.txt`\n",
        "with open(\"/kaggle/input/words-en/words.txt\", \"r\") as f:\n",
        "    words = [word.strip() for word in f.readlines()]\n",
        "\n",
        "# **AI 평가자가 선호하는 스타일로 `choices()` 생성**\n",
        "def choices(topic):\n",
        "    structured_essay = f\"\"\"\n",
        "    Introduction:\n",
        "    {topic} has been a widely discussed issue, with differing perspectives on its impact and relevance.\n",
        "\n",
        "    Argument 1:\n",
        "    Supporters argue that {topic} plays a crucial role in modern society, providing numerous benefits.\n",
        "\n",
        "    Argument 2:\n",
        "    However, critics highlight that {topic} also presents significant challenges and risks.\n",
        "\n",
        "    Conclusion:\n",
        "    Ultimately, {topic} remains a complex topic with multiple viewpoints, requiring further discussion and research.\n",
        "    \"\"\"\n",
        "\n",
        "    return structured_essay.strip()\n",
        "\n",
        "#  **AI 평가자가 자연스럽게 9점을 주도록 `give9()` 수정**\n",
        "def give9(topic):\n",
        "    structured_high_score_essay = f\"\"\"\n",
        "    Introduction:\n",
        "    {topic} has a profound impact on various aspects of human life and technological advancements.\n",
        "\n",
        "    Argument 1:\n",
        "    Historically, {topic} has been instrumental in shaping societies and influencing policy decisions.\n",
        "\n",
        "    Argument 2:\n",
        "    Moreover, recent studies highlight how {topic} continues to drive innovation and problem-solving in diverse fields.\n",
        "\n",
        "    Argument 3:\n",
        "    Ethical considerations and opposing perspectives must also be acknowledged to fully grasp the complexity of {topic}.\n",
        "\n",
        "    Conclusion:\n",
        "    Given its historical significance and ongoing relevance, {topic} deserves further exploration and thoughtful analysis.\n",
        "    \"\"\"\n",
        "\n",
        "    return structured_high_score_essay.strip()\n",
        "\n",
        "# **랜덤하게 `give9()`와 `choices()`를 분배하여 패턴 감지 방지**\n",
        "num_rows = len(submission_df)\n",
        "original_indices = submission_df.index.tolist()\n",
        "shuffled_indices = original_indices.copy()\n",
        "random.shuffle(shuffled_indices)\n",
        "\n",
        "# `give9()`를 30~45%로 랜덤 적용\n",
        "give9_ratio = random.uniform(0.3, 0.45)  # 30% ~ 45% 사이 랜덤 비율 적용\n",
        "give9_count = int(num_rows * give9_ratio)\n",
        "give9_indices = shuffled_indices[:give9_count]\n",
        "choices_indices = shuffled_indices[give9_count:]\n",
        "\n",
        "# `give9()` 적용\n",
        "for idx in give9_indices:\n",
        "    topic = test_df.loc[idx, 'topic']\n",
        "    submission_df.at[idx, 'essay'] = give9(topic)\n",
        "\n",
        "# `choices()` 적용\n",
        "for idx in choices_indices:\n",
        "    topic = test_df.loc[idx, 'topic']\n",
        "    submission_df.at[idx, 'essay'] = choices(topic)\n",
        "\n",
        "# Save the submission file\n",
        "submission_df.to_csv('submission.csv', index=False)\n",
        "print(\"finished!!\")"
      ]
    }
  ]
}