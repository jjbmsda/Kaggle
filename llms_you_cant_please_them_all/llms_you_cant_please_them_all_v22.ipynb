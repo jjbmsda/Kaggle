{
  "nbformat": 4,
  "nbformat_minor": 0,
  "metadata": {
    "colab": {
      "provenance": [],
      "authorship_tag": "ABX9TyN6CxceP43OLQYI1VYd/ysE",
      "include_colab_link": true
    },
    "kernelspec": {
      "name": "python3",
      "display_name": "Python 3"
    },
    "language_info": {
      "name": "python"
    }
  },
  "cells": [
    {
      "cell_type": "markdown",
      "metadata": {
        "id": "view-in-github",
        "colab_type": "text"
      },
      "source": [
        "<a href=\"https://colab.research.google.com/github/jjbmsda/Kaggle/blob/main/llms_you_cant_please_them_all/llms_you_cant_please_them_all_v22.ipynb\" target=\"_parent\"><img src=\"https://colab.research.google.com/assets/colab-badge.svg\" alt=\"Open In Colab\"/></a>"
      ]
    },
    {
      "cell_type": "code",
      "execution_count": null,
      "metadata": {
        "id": "B0FhAk1H-3tv"
      },
      "outputs": [],
      "source": [
        "import pandas as pd\n",
        "import random\n",
        "\n",
        "# 최적의 랜덤 시드 탐색을 위해 여러 값 테스트 가능\n",
        "random.seed(364)  # 여러 값으로 실험 가능\n",
        "\n",
        "# Load Kaggle dataset\n",
        "test_df = pd.read_csv('/kaggle/input/llms-you-cant-please-them-all/test.csv')\n",
        "submission_df = pd.read_csv('/kaggle/input/llms-you-cant-please-them-all/sample_submission.csv')\n",
        "\n",
        "# Load word list from `words.txt`\n",
        "with open(\"/kaggle/input/words-en/words.txt\", \"r\") as f:\n",
        "    words = [word.strip() for word in f.readlines()]\n",
        "\n",
        "# **새로운 `generate_essay()` 함수 (기존 choices 제거)**\n",
        "def generate_essay(topic):\n",
        "    unique_styles = [\n",
        "        f\"\"\"\n",
        "        If {topic} were a paradox, what would it reveal?\n",
        "        Some claim {topic} is the key to understanding the universe, while others dismiss it as an illusion.\n",
        "\n",
        "        Consider the following:\n",
        "        - {topic} appears everywhere, yet remains undefined.\n",
        "        - Scientists and philosophers alike debate its true meaning.\n",
        "        - Its impact is undeniable, yet no one agrees on its exact nature.\n",
        "\n",
        "        What does {topic} truly mean? Perhaps the answer lies not in defining it, but in questioning its existence.\n",
        "        \"\"\",\n",
        "        f\"\"\"\n",
        "        {topic} exists in both the tangible and the abstract.\n",
        "        Imagine a world where {topic} was never conceived—would it change anything?\n",
        "\n",
        "        - Some argue that {topic} is essential, yet societies have thrived without it.\n",
        "        - Others claim that {topic} is a mere construct, invented to impose order.\n",
        "        - If {topic} is real, why does its definition change over time?\n",
        "\n",
        "        The contradiction remains: {topic} is everything, yet nothing.\n",
        "        \"\"\"\n",
        "    ]\n",
        "    return random.choice(unique_styles).strip()\n",
        "\n",
        "# **비율을 랜덤화하여 `give9()` & `generate_essay()` 혼합 적용**\n",
        "def apply_randomized_strategy(submission_df, test_df):\n",
        "    num_rows = len(submission_df)\n",
        "    original_indices = submission_df.index.tolist()\n",
        "    shuffled_indices = original_indices.copy()\n",
        "    random.shuffle(shuffled_indices)\n",
        "\n",
        "    give9_ratio = random.uniform(0.3, 0.5)  # 30%~50% 랜덤 비율\n",
        "    give9_count = int(num_rows * give9_ratio)\n",
        "    give9_indices = shuffled_indices[:give9_count]\n",
        "    choices_indices = shuffled_indices[give9_count:]\n",
        "\n",
        "    for idx in give9_indices:\n",
        "        topic = test_df.loc[idx, 'topic']\n",
        "        submission_df.at[idx, 'essay'] = generate_essay(topic)\n",
        "\n",
        "    for idx in choices_indices:\n",
        "        topic = test_df.loc[idx, 'topic']\n",
        "        submission_df.at[idx, 'essay'] = generate_essay(topic)\n",
        "\n",
        "apply_randomized_strategy(submission_df, test_df)\n",
        "\n",
        "# Save the submission file\n",
        "submission_df.to_csv('submission.csv', index=False)\n",
        "print(\"Submission saved! RANDOMIZED STRATEGY APPLIED.\")\n"
      ]
    }
  ]
}