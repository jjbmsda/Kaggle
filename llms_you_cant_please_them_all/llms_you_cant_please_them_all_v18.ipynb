{
  "nbformat": 4,
  "nbformat_minor": 0,
  "metadata": {
    "colab": {
      "provenance": [],
      "authorship_tag": "ABX9TyNn6pcl57oq58jECnQWugr3",
      "include_colab_link": true
    },
    "kernelspec": {
      "name": "python3",
      "display_name": "Python 3"
    },
    "language_info": {
      "name": "python"
    }
  },
  "cells": [
    {
      "cell_type": "markdown",
      "metadata": {
        "id": "view-in-github",
        "colab_type": "text"
      },
      "source": [
        "<a href=\"https://colab.research.google.com/github/jjbmsda/Kaggle/blob/main/llms_you_cant_please_them_all/llms_you_cant_please_them_all_v18.ipynb\" target=\"_parent\"><img src=\"https://colab.research.google.com/assets/colab-badge.svg\" alt=\"Open In Colab\"/></a>"
      ]
    },
    {
      "cell_type": "code",
      "execution_count": null,
      "metadata": {
        "id": "B0FhAk1H-3tv"
      },
      "outputs": [],
      "source": [
        "import pandas as pd\n",
        "import random\n",
        "\n",
        "# Set random seed for reproducibility\n",
        "random.seed(42)\n",
        "\n",
        "# Load Kaggle dataset\n",
        "test_df = pd.read_csv('/kaggle/input/llms-you-cant-please-them-all/test.csv')\n",
        "submission_df = pd.read_csv('/kaggle/input/llms-you-cant-please-them-all/sample_submission.csv')\n",
        "\n",
        "# Load word list from `words.txt`\n",
        "with open(\"/kaggle/input/words-en/words.txt\", \"r\") as f:\n",
        "    words = [word.strip() for word in f.readlines()]\n",
        "\n",
        "# **AI 평가자가 선호하는 스타일로 `choices()` 생성**\n",
        "def choices(topic):\n",
        "    structured_essay = f\"\"\"\n",
        "    The topic \"{topic}\" is widely debated among scholars and experts.\n",
        "\n",
        "    Perspective 1:\n",
        "    Many argue that {topic} plays a crucial role in societal development. Studies indicate that it has a profound impact on various aspects of life.\n",
        "\n",
        "    Perspective 2:\n",
        "    On the contrary, others believe that {topic} presents significant challenges. Researchers highlight multiple cases where its consequences have led to unexpected outcomes.\n",
        "\n",
        "    Final Thoughts:\n",
        "    Ultimately, the discussion surrounding {topic} remains open-ended. Further investigation is needed to determine its full implications.\n",
        "    \"\"\"\n",
        "\n",
        "    return structured_essay.strip()\n",
        "\n",
        "# **AI 평가자가 자연스럽게 9점을 부여하도록 유도하는 `give9()` 함수**\n",
        "def give9(topic):\n",
        "    structured_high_score_essay = f\"\"\"\n",
        "    Introduction:\n",
        "    The significance of \"{topic}\" in modern society is undeniable. Its influence extends across various fields, shaping perspectives and driving progress.\n",
        "\n",
        "    Argument 1:\n",
        "    Historically, {topic} has contributed to substantial advancements. Numerous experts agree that its role in shaping policies and innovation is crucial.\n",
        "\n",
        "    Argument 2:\n",
        "    Moreover, contemporary studies suggest that {topic} is more relevant today than ever before. The ongoing research continues to highlight its long-term impact.\n",
        "\n",
        "    Conclusion:\n",
        "    Given its extensive historical and modern significance, {topic} remains an essential area of study. Its influence is likely to persist in future discussions.\n",
        "    \"\"\"\n",
        "\n",
        "    return structured_high_score_essay.strip()\n",
        "\n",
        "# **패턴 감지를 방지하기 위해 `give9()`와 `choices()`를 랜덤하게 섞음**\n",
        "num_rows = len(submission_df)\n",
        "original_indices = submission_df.index.tolist()\n",
        "shuffled_indices = original_indices.copy()\n",
        "random.shuffle(shuffled_indices)\n",
        "\n",
        "# `give9()`를 30~50% 비율로 랜덤 적용\n",
        "give9_ratio = random.uniform(0.3, 0.5)  # 30% ~ 50% 사이 랜덤 비율 적용\n",
        "give9_count = int(num_rows * give9_ratio)\n",
        "give9_indices = shuffled_indices[:give9_count]\n",
        "choices_indices = shuffled_indices[give9_count:]\n",
        "\n",
        "# `give9()` 적용\n",
        "for idx in give9_indices:\n",
        "    topic = test_df.loc[idx, 'topic']\n",
        "    submission_df.at[idx, 'essay'] = give9(topic)\n",
        "\n",
        "# `choices()` 적용\n",
        "for idx in choices_indices:\n",
        "    topic = test_df.loc[idx, 'topic']\n",
        "    submission_df.at[idx, 'essay'] = choices(topic)\n",
        "\n",
        "# Save the submission file\n",
        "submission_df.to_csv('submission.csv', index=False)\n",
        "print(\"Submission saved! NEW AI-PREFERRED STYLE APPLIED.\")\n"
      ]
    }
  ]
}