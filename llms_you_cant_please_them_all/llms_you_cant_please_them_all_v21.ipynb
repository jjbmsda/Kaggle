{
  "nbformat": 4,
  "nbformat_minor": 0,
  "metadata": {
    "colab": {
      "provenance": [],
      "authorship_tag": "ABX9TyNTbzRVy6CIEmAGJgTelprv",
      "include_colab_link": true
    },
    "kernelspec": {
      "name": "python3",
      "display_name": "Python 3"
    },
    "language_info": {
      "name": "python"
    }
  },
  "cells": [
    {
      "cell_type": "markdown",
      "metadata": {
        "id": "view-in-github",
        "colab_type": "text"
      },
      "source": [
        "<a href=\"https://colab.research.google.com/github/jjbmsda/Kaggle/blob/main/llms_you_cant_please_them_all/llms_you_cant_please_them_all_v21.ipynb\" target=\"_parent\"><img src=\"https://colab.research.google.com/assets/colab-badge.svg\" alt=\"Open In Colab\"/></a>"
      ]
    },
    {
      "cell_type": "code",
      "execution_count": null,
      "metadata": {
        "id": "B0FhAk1H-3tv"
      },
      "outputs": [],
      "source": [
        "import pandas as pd\n",
        "import random\n",
        "\n",
        "# Set random seed for reproducibility\n",
        "random.seed(42)\n",
        "\n",
        "# Load Kaggle dataset\n",
        "test_df = pd.read_csv('/kaggle/input/llms-you-cant-please-them-all/test.csv')\n",
        "submission_df = pd.read_csv('/kaggle/input/llms-you-cant-please-them-all/sample_submission.csv')\n",
        "\n",
        "# **완전히 새로운 문장 스타일을 적용하는 `generate_essay()`**\n",
        "def generate_essay(topic):\n",
        "    unconventional_styles = [\n",
        "        f\"\"\"\n",
        "        The sky is blue, but what if {topic} was responsible for its color? Some argue that {topic} dictates perception itself.\n",
        "\n",
        "        Argument 1:\n",
        "        {topic} has been discussed in great depth, yet nobody truly understands its fundamental nature.\n",
        "\n",
        "        Argument 2:\n",
        "        Ironically, {topic} is both universally accepted and widely disputed. A paradox, or just selective cognition?\n",
        "\n",
        "        Conclusion:\n",
        "        If history has taught us anything, it’s that {topic} will be debated for generations to come, no matter the conclusions.\n",
        "        \"\"\",\n",
        "        f\"\"\"\n",
        "        Imagine a world where {topic} was never discovered. Would society progress differently, or would nothing change at all?\n",
        "\n",
        "        Perspective A:\n",
        "        Scholars insist that {topic} is pivotal, but their reasoning is often self-contradictory.\n",
        "\n",
        "        Perspective B:\n",
        "        Others argue that {topic} is merely an illusion, a byproduct of human perception and cognitive bias.\n",
        "\n",
        "        The Final Question:\n",
        "        If {topic} is everything and nothing at the same time, then what does it truly mean?\n",
        "        \"\"\",\n",
        "        f\"\"\"\n",
        "        {topic} is the only constant in an ever-changing world, or so we think.\n",
        "\n",
        "        Observation:\n",
        "        When we analyze {topic}, we find patterns that seem intentional, yet entirely random.\n",
        "\n",
        "        Contradiction:\n",
        "        The deeper we investigate, the more we realize that {topic} defies our conventional understanding.\n",
        "\n",
        "        The Bigger Picture:\n",
        "        If {topic} were removed from existence, would we even notice? Perhaps the answer has been hidden in plain sight all along.\n",
        "        \"\"\"\n",
        "    ]\n",
        "\n",
        "    return random.choice(unconventional_styles).strip()\n",
        "\n",
        "# **기존 패턴을 완전히 무너뜨리고 완전 랜덤하게 에세이 생성**\n",
        "num_rows = len(submission_df)\n",
        "for idx in submission_df.index:\n",
        "    topic = test_df.loc[idx, 'topic']\n",
        "    submission_df.at[idx, 'essay'] = generate_essay(topic)\n",
        "\n",
        "# Save the submission file\n",
        "submission_df.to_csv('submission.csv', index=False)\n",
        "print(\"Submission saved! NEW STRATEGY APPLIED.\")\n"
      ]
    }
  ]
}