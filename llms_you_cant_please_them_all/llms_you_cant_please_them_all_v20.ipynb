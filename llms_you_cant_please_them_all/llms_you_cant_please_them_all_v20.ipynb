{
  "nbformat": 4,
  "nbformat_minor": 0,
  "metadata": {
    "colab": {
      "provenance": [],
      "authorship_tag": "ABX9TyOuj92AelZ8bklOxNv1Ceeh",
      "include_colab_link": true
    },
    "kernelspec": {
      "name": "python3",
      "display_name": "Python 3"
    },
    "language_info": {
      "name": "python"
    }
  },
  "cells": [
    {
      "cell_type": "markdown",
      "metadata": {
        "id": "view-in-github",
        "colab_type": "text"
      },
      "source": [
        "<a href=\"https://colab.research.google.com/github/jjbmsda/Kaggle/blob/main/llms_you_cant_please_them_all/llms_you_cant_please_them_all_v20.ipynb\" target=\"_parent\"><img src=\"https://colab.research.google.com/assets/colab-badge.svg\" alt=\"Open In Colab\"/></a>"
      ]
    },
    {
      "cell_type": "code",
      "execution_count": null,
      "metadata": {
        "id": "B0FhAk1H-3tv"
      },
      "outputs": [],
      "source": [
        "import pandas as pd\n",
        "import random\n",
        "\n",
        "# Set random seed for reproducibility\n",
        "random.seed(42)\n",
        "\n",
        "# Load Kaggle dataset\n",
        "test_df = pd.read_csv('/kaggle/input/llms-you-cant-please-them-all/test.csv')\n",
        "submission_df = pd.read_csv('/kaggle/input/llms-you-cant-please-them-all/sample_submission.csv')\n",
        "\n",
        "# Load word list from `words.txt`\n",
        "with open(\"/kaggle/input/words-en/words.txt\", \"r\") as f:\n",
        "    words = [word.strip() for word in f.readlines()]\n",
        "\n",
        "# **새로운 AI 평가 모델 속이기 전략: `generate_essay()`**\n",
        "def generate_essay(topic):\n",
        "    essay_templates = [\n",
        "        f\"\"\"\n",
        "        The discussion around \"{topic}\" has led to remarkable shifts in academic discourse and policy-making.\n",
        "\n",
        "        Argument A:\n",
        "        Some scholars argue that {topic} has significantly influenced global economic patterns. Studies indicate a strong correlation between {topic} and economic stability.\n",
        "\n",
        "        Argument B:\n",
        "        Others contend that {topic} introduces complex ethical dilemmas, making it a double-edged sword in modern society.\n",
        "\n",
        "        Final Thoughts:\n",
        "        Given its multifaceted nature, {topic} will continue to be a focal point of intellectual exploration and public debate.\n",
        "        \"\"\",\n",
        "        f\"\"\"\n",
        "        The relevance of \"{topic}\" cannot be overstated, as it intertwines with historical progress and modern innovation.\n",
        "\n",
        "        Key Observations:\n",
        "        - Many researchers claim {topic} is foundational to contemporary advancements.\n",
        "        - Others believe {topic} poses challenges that require careful management.\n",
        "\n",
        "        Implications:\n",
        "        As more data emerges, the role of {topic} will be further scrutinized, leading to deeper insights and policy adaptations.\n",
        "        \"\"\",\n",
        "        f\"\"\"\n",
        "        Throughout history, \"{topic}\" has sparked debate among philosophers, economists, and policymakers.\n",
        "\n",
        "        Perspective 1:\n",
        "        Evidence suggests {topic} contributes positively to long-term societal well-being.\n",
        "\n",
        "        Perspective 2:\n",
        "        However, some argue that the unintended consequences of {topic} outweigh its benefits.\n",
        "\n",
        "        Conclusion:\n",
        "        As the discourse evolves, {topic} remains an essential component of modern thought.\n",
        "        \"\"\"\n",
        "    ]\n",
        "\n",
        "    return random.choice(essay_templates).strip()\n",
        "\n",
        "# **새로운 접근 방식: 랜덤하게 에세이 생성**\n",
        "num_rows = len(submission_df)\n",
        "for idx in submission_df.index:\n",
        "    topic = test_df.loc[idx, 'topic']\n",
        "    submission_df.at[idx, 'essay'] = generate_essay(topic)\n",
        "\n",
        "# Save the submission file\n",
        "submission_df.to_csv('submission.csv', index=False)\n",
        "print(\"Submission saved! NEW AI-BASED STRATEGY APPLIED.\")\n"
      ]
    }
  ]
}